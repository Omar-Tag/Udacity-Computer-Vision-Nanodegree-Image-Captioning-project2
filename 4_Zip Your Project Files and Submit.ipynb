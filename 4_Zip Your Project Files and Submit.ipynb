{
 "cells": [
  {
   "cell_type": "markdown",
   "metadata": {},
   "source": [
    "## Project Submission\n",
    "\n",
    "When you are ready to submit your project, meaning you have checked the [rubric](https://review.udacity.com/#!/rubrics/1427/view) and made sure that you have completed all tasks and answered all questions. Then you are ready to compress your files and submit your solution!\n",
    "\n",
    "The following steps assume:\n",
    "1. All cells have been *run* in Notebooks 2 and 3 (and that progress has been saved).\n",
    "2. All questions in those notebooks have been answered.\n",
    "3. Your architecture in `model.py` is your best tested architecture.\n",
    "\n",
    "Please make sure all your work is saved before moving on. You do not need to change any code in these cells; this code is to help you submit your project, only.\n",
    "\n",
    "---\n",
    "\n",
    "The first thing we'll do, is convert your notebooks into `.html` files; these files will save the output of each cell and any code/text that you have modified and saved in those notebooks. Note that the first notebooks are not included because their contents will not affect your project review."
   ]
  },
  {
   "cell_type": "code",
   "execution_count": 1,
   "metadata": {},
   "outputs": [
    {
     "name": "stderr",
     "output_type": "stream",
     "text": [
      "[NbConvertApp] Converting notebook 2_Training.ipynb to html\n",
      "[NbConvertApp] Writing 542115 bytes to 2_Training.html\n",
      "[NbConvertApp] Converting notebook 3_Inference.ipynb to html\n",
      "[NbConvertApp] Writing 1457650 bytes to 3_Inference.html\n"
     ]
    }
   ],
   "source": [
    "!jupyter nbconvert \"2_Training.ipynb\"\n",
    "!jupyter nbconvert \"3_Inference.ipynb\""
   ]
  },
  {
   "cell_type": "markdown",
   "metadata": {},
   "source": [
    "### Zip the project files\n",
    "\n",
    "Next, we'll zip all these notebook files and your `model.py` file into one compressed archive named `project2.zip`.\n",
    "\n",
    "After completing this step you should see this zip file appear in your home directory, where you can download it as seen in the image below, by selecting it from the list and clicking **Download**. This step may take a minute or two to complete.\n",
    "\n",
    "<img src='images/download_ex.png' width=50% height=50%/>\n"
   ]
  },
  {
   "cell_type": "code",
   "execution_count": 5,
   "metadata": {},
   "outputs": [
    {
     "name": "stdout",
     "output_type": "stream",
     "text": [
      "Collecting zip\n",
      "  Using cached zip-0.0.2.tar.gz (3.0 kB)\n",
      "Collecting Flask-Admin>=1.0.4\n",
      "  Using cached Flask-Admin-1.5.6.tar.gz (1.7 MB)\n",
      "Collecting Flask-Bootstrap>=2.2.2-1\n",
      "  Using cached Flask-Bootstrap-3.3.7.1.tar.gz (456 kB)\n",
      "Collecting Flask-Cache>=0.10.1\n",
      "  Using cached Flask-Cache-0.13.1.tar.gz (45 kB)\n",
      "Collecting Flask-FlatPages>=0.3\n",
      "  Using cached Flask_FlatPages-0.7.2-py2.py3-none-any.whl (9.8 kB)\n",
      "Collecting Flask-Gravatar>=0.2.4\n",
      "  Using cached Flask_Gravatar-0.5.0-py2.py3-none-any.whl (7.5 kB)\n",
      "Collecting Flask-Login>=0.1.3\n",
      "  Using cached Flask_Login-0.5.0-py2.py3-none-any.whl (16 kB)\n",
      "Collecting Flask-Mail>=0.7.4\n",
      "  Using cached Flask-Mail-0.9.1.tar.gz (45 kB)\n",
      "Collecting Flask-PyMongo>=0.2.1\n",
      "  Using cached Flask_PyMongo-2.3.0-py2.py3-none-any.whl (12 kB)\n",
      "Collecting Flask-Restless>=0.9.1\n",
      "  Using cached Flask-Restless-0.17.0.tar.gz (42 kB)\n",
      "Collecting Flask-SQLAlchemy>=0.16\n",
      "  Using cached Flask_SQLAlchemy-2.4.3-py2.py3-none-any.whl (17 kB)\n",
      "Collecting Flask-Themes>=0.1.3\n",
      "  Using cached Flask-Themes-0.1.3.tar.gz (9.7 kB)\n",
      "Collecting Flask-Uploads>=0.1.3\n",
      "  Using cached Flask-Uploads-0.2.1.tar.gz (7.6 kB)\n",
      "Collecting Flask-WTF>=0.8.2\n",
      "  Using cached Flask_WTF-0.14.3-py2.py3-none-any.whl (13 kB)\n",
      "Requirement already satisfied: Flask>=0.9 in c:\\programdata\\anaconda3\\lib\\site-packages (from zip) (1.1.1)\n",
      "Collecting frozen-flask\n",
      "  Using cached Frozen_Flask-0.15-py2.py3-none-any.whl (20 kB)\n",
      "Requirement already satisfied: Jinja2>=2.6 in c:\\programdata\\anaconda3\\lib\\site-packages (from zip) (2.11.1)\n",
      "Collecting Markdown>=2.2.1\n",
      "  Using cached Markdown-3.2.2-py3-none-any.whl (88 kB)\n",
      "Requirement already satisfied: PyYAML>=3.11 in c:\\programdata\\anaconda3\\lib\\site-packages (from zip) (5.3)\n",
      "Requirement already satisfied: SQLAlchemy>=0.8.0b2 in c:\\programdata\\anaconda3\\lib\\site-packages (from zip) (1.3.13)\n",
      "Requirement already satisfied: Sphinx>=1.3.1 in c:\\programdata\\anaconda3\\lib\\site-packages (from zip) (2.4.0)\n",
      "Collecting WTForms>=1.0.3\n",
      "  Using cached WTForms-2.3.1-py2.py3-none-any.whl (169 kB)\n",
      "Requirement already satisfied: Werkzeug>=0.8.3 in c:\\programdata\\anaconda3\\lib\\site-packages (from zip) (1.0.0)\n",
      "Collecting argparse>=1.2.1\n",
      "  Using cached argparse-1.4.0-py2.py3-none-any.whl (23 kB)\n",
      "Collecting blinker>=1.2\n",
      "  Using cached blinker-1.4.tar.gz (111 kB)\n",
      "Collecting bumpversion>=0.5.3\n",
      "  Using cached bumpversion-0.6.0-py2.py3-none-any.whl (8.4 kB)\n",
      "Requirement already satisfied: click>=6.3 in c:\\programdata\\anaconda3\\lib\\site-packages (from zip) (7.0)\n",
      "Requirement already satisfied: colorama>=0.3.7 in c:\\programdata\\anaconda3\\lib\\site-packages (from zip) (0.4.3)\n",
      "Collecting coverage>=4.0\n",
      "  Using cached coverage-5.1-cp37-cp37m-win_amd64.whl (205 kB)\n",
      "Requirement already satisfied: cryptography>=1.0.1 in c:\\programdata\\anaconda3\\lib\\site-packages (from zip) (2.8)\n",
      "Requirement already satisfied: flake8>=2.4.1 in c:\\programdata\\anaconda3\\lib\\site-packages (from zip) (3.7.9)\n",
      "Requirement already satisfied: networkx>=1.11 in c:\\programdata\\anaconda3\\lib\\site-packages (from zip) (2.4)\n",
      "Collecting pymongo>=2.5.1\n",
      "  Using cached pymongo-3.10.1-cp37-cp37m-win_amd64.whl (354 kB)\n",
      "Requirement already satisfied: pytest>=2.8.3 in c:\\programdata\\anaconda3\\lib\\site-packages (from zip) (5.3.5)\n",
      "Requirement already satisfied: python-dateutil>=1.5 in c:\\programdata\\anaconda3\\lib\\site-packages (from zip) (2.8.1)\n",
      "Requirement already satisfied: six>=1.10.0 in c:\\programdata\\anaconda3\\lib\\site-packages (from zip) (1.14.0)\n",
      "Collecting tox>=2.1.1\n",
      "  Using cached tox-3.15.2-py2.py3-none-any.whl (137 kB)\n",
      "Requirement already satisfied: watchdog>=0.8.3 in c:\\programdata\\anaconda3\\lib\\site-packages (from zip) (0.10.2)\n",
      "Requirement already satisfied: wheel>=0.23.0 in c:\\programdata\\anaconda3\\lib\\site-packages (from zip) (0.34.2)\n",
      "Collecting wsgiref>=0.1.2\n",
      "  Using cached wsgiref-0.1.2.zip (37 kB)\n"
     ]
    },
    {
     "name": "stderr",
     "output_type": "stream",
     "text": [
      "    ERROR: Command errored out with exit status 1:\n",
      "     command: 'C:\\ProgramData\\Anaconda3\\python.exe' -c 'import sys, setuptools, tokenize; sys.argv[0] = '\"'\"'C:\\\\Users\\\\omar4795\\\\AppData\\\\Local\\\\Temp\\\\2\\\\pip-install-lag_bduz\\\\wsgiref\\\\setup.py'\"'\"'; __file__='\"'\"'C:\\\\Users\\\\omar4795\\\\AppData\\\\Local\\\\Temp\\\\2\\\\pip-install-lag_bduz\\\\wsgiref\\\\setup.py'\"'\"';f=getattr(tokenize, '\"'\"'open'\"'\"', open)(__file__);code=f.read().replace('\"'\"'\\r\\n'\"'\"', '\"'\"'\\n'\"'\"');f.close();exec(compile(code, __file__, '\"'\"'exec'\"'\"'))' egg_info --egg-base 'C:\\Users\\omar4795\\AppData\\Local\\Temp\\2\\pip-install-lag_bduz\\wsgiref\\pip-egg-info'\n",
      "         cwd: C:\\Users\\omar4795\\AppData\\Local\\Temp\\2\\pip-install-lag_bduz\\wsgiref\\\n",
      "    Complete output (8 lines):\n",
      "    Traceback (most recent call last):\n",
      "      File \"<string>\", line 1, in <module>\n",
      "      File \"C:\\Users\\omar4795\\AppData\\Local\\Temp\\2\\pip-install-lag_bduz\\wsgiref\\setup.py\", line 5, in <module>\n",
      "        import ez_setup\n",
      "      File \"C:\\Users\\omar4795\\AppData\\Local\\Temp\\2\\pip-install-lag_bduz\\wsgiref\\ez_setup\\__init__.py\", line 170\n",
      "        print \"Setuptools version\",version,\"or greater has been installed.\"\n",
      "                                 ^\n",
      "    SyntaxError: Missing parentheses in call to 'print'. Did you mean print(\"Setuptools version\",version,\"or greater has been installed.\")?\n",
      "    ----------------------------------------\n",
      "ERROR: Command errored out with exit status 1: python setup.py egg_info Check the logs for full command output.\n"
     ]
    }
   ],
   "source": [
    "!pip install zip\n"
   ]
  },
  {
   "cell_type": "code",
   "execution_count": 3,
   "metadata": {},
   "outputs": [
    {
     "name": "stderr",
     "output_type": "stream",
     "text": [
      "'zip' is not recognized as an internal or external command,\n",
      "operable program or batch file.\n"
     ]
    }
   ],
   "source": [
    "!!apt-get -y update && apt-get install -y zip\n",
    "!zip project2.zip -r . -i@filelist.txt"
   ]
  },
  {
   "cell_type": "markdown",
   "metadata": {},
   "source": [
    "### Submit Your Project\n",
    "\n",
    "After creating and downloading your zip file, click on the `Submit` button and follow the instructions for submitting your `project2.zip` file. Congratulations on completing this project and I hope you enjoyed it!"
   ]
  },
  {
   "cell_type": "code",
   "execution_count": null,
   "metadata": {},
   "outputs": [],
   "source": []
  }
 ],
 "metadata": {
  "kernelspec": {
   "display_name": "Python 3",
   "language": "python",
   "name": "python3"
  },
  "language_info": {
   "codemirror_mode": {
    "name": "ipython",
    "version": 3
   },
   "file_extension": ".py",
   "mimetype": "text/x-python",
   "name": "python",
   "nbconvert_exporter": "python",
   "pygments_lexer": "ipython3",
   "version": "3.7.6"
  }
 },
 "nbformat": 4,
 "nbformat_minor": 2
}
